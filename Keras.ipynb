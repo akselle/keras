{
 "cells": [
  {
   "cell_type": "markdown",
   "metadata": {
    "id": "c0vheAsek24s"
   },
   "source": [
    "## LeNet-5 на Keras"
   ]
  },
  {
   "cell_type": "code",
   "execution_count": null,
   "metadata": {
    "id": "VUnn2rSYk24u"
   },
   "outputs": [],
   "source": [
    "import keras\n",
    "from keras.models import Sequential\n",
    "from keras.layers import Conv2D, AveragePooling2D, Flatten, Dense\n",
    "\n",
    "from tensorflow.keras.utils import to_categorical\n",
    "\n",
    "import matplotlib.pyplot as plt\n",
    "%matplotlib inline"
   ]
  },
  {
   "cell_type": "markdown",
   "metadata": {
    "id": "yPd0j8Q8k24v"
   },
   "source": [
    "Загрузка и подготовка данных:"
   ]
  },
  {
   "cell_type": "code",
   "execution_count": null,
   "metadata": {
    "colab": {
     "base_uri": "https://localhost:8080/",
     "height": 1000
    },
    "id": "7IBDaH0Ik24w",
    "outputId": "c96dd9b5-ccef-4638-f348-2004bcde02b4"
   },
   "outputs": [],
   "source": [
    "(X_train, y_train), (X_test, y_test) = keras.datasets.mnist.load_data()\n",
    "X_train = X_train.reshape(X_train.shape[0], 28, 28, 1)\n",
    "X_test = X_test.reshape(X_test.shape[0], 28, 28, 1)\n",
    "\n",
    "fig, ax = plt.subplots(6, 6, figsize = (12, 12))\n",
    "fig.suptitle('First 36 images in MNIST')\n",
    "fig.tight_layout(pad = 0.3, rect = [0, 0, 0.9, 0.9])\n",
    "for x, y in [(i, j) for i in range(6) for j in range(6)]:\n",
    "    ax[x, y].imshow(X_train[x + y * 6].reshape((28, 28)), cmap = 'gray')\n",
    "    ax[x, y].set_title(y_train[x + y * 6])\n",
    "\n",
    "y_train = to_categorical(y_train, 10)\n",
    "y_test = to_categorical(y_test, 10)"
   ]
  },
  {
   "cell_type": "markdown",
   "metadata": {
    "id": "7zS41y12798-"
   },
   "source": [
    "<img src=\"https://www.researchgate.net/profile/Gabriel-Falcao/publication/321665783/figure/fig2/AS:635289152282624@1528476145313/The-architecture-of-LeNet-5-23-a-CNN-used-for-digits-recognition-for-the-MNIST-dataset.png\">"
   ]
  },
  {
   "cell_type": "code",
   "execution_count": null,
   "metadata": {
    "id": "BlnmM985k24x"
   },
   "outputs": [],
   "source": [
    "# инициализация\n",
    "model = Sequential()\n",
    "\n",
    "# первый сверточный слой (convolutions)\n",
    "model.add(\n",
    "    Conv2D(\n",
    "        filters=6, \n",
    "        kernel_size=(5, 5), \n",
    "        activation='tanh', \n",
    "        input_shape=(28, 28, 1), \n",
    "        padding='same')\n",
    "    )\n",
    "\n",
    "# слой пулинга (subsampling)\n",
    "model.add(\n",
    "    AveragePooling2D(\n",
    "        pool_size=(2, 2)\n",
    "        )\n",
    "    )\n",
    "\n",
    "# второй сверточный слой (convolutions)\n",
    "model.add(\n",
    "    Conv2D(\n",
    "        filters=16, \n",
    "        kernel_size=(5, 5), \n",
    "        activation='tanh'\n",
    "        )\n",
    "    )\n",
    "\n",
    "# слой пулинга (subsampling)\n",
    "model.add(\n",
    "    AveragePooling2D(\n",
    "        pool_size=(2, 2)\n",
    "        )\n",
    "    )\n",
    "\n",
    "# вытянем в вектор\n",
    "model.add(\n",
    "    Flatten()\n",
    "    )\n",
    "\n",
    "# первый полносвязный слой со 120 нейронами\n",
    "model.add(\n",
    "    Dense(\n",
    "        units=120, \n",
    "        activation='tanh'\n",
    "        )\n",
    "    )\n",
    "\n",
    "# второй полносвязный слой с 84 нейронами\n",
    "model.add(\n",
    "    Dense(\n",
    "        units=84, \n",
    "        activation='tanh'\n",
    "        )\n",
    "    )\n",
    "\n",
    "# выходной слой - 10 нейронов = 10 возможных цифр\n",
    "model.add(\n",
    "    Dense(\n",
    "        units=10, \n",
    "        activation='softmax')\n",
    "    )"
   ]
  },
  {
   "cell_type": "code",
   "execution_count": null,
   "metadata": {
    "colab": {
     "base_uri": "https://localhost:8080/"
    },
    "id": "CvsLQzPAk24y",
    "outputId": "b99fa9a9-8962-41ea-ff05-e2fe3bd018d8"
   },
   "outputs": [],
   "source": [
    "model.summary()"
   ]
  },
  {
   "cell_type": "markdown",
   "metadata": {
    "id": "GHooGQY6k24y"
   },
   "source": [
    "Обучение нейронной сети (оптимизация весов заданной сети):"
   ]
  },
  {
   "cell_type": "code",
   "execution_count": null,
   "metadata": {
    "id": "0JN8EO9jk24z"
   },
   "outputs": [],
   "source": [
    "model.compile(\n",
    "    loss='categorical_crossentropy', \n",
    "    optimizer='adam', \n",
    "    metrics=['accuracy']\n",
    "    )"
   ]
  },
  {
   "cell_type": "code",
   "execution_count": null,
   "metadata": {
    "colab": {
     "base_uri": "https://localhost:8080/"
    },
    "id": "RZh3RDiCk24z",
    "outputId": "5ff5aee5-2ef2-4f9f-97c5-ff29e040272f"
   },
   "outputs": [],
   "source": [
    "model.fit(\n",
    "    X_train, \n",
    "    y_train, \n",
    "    batch_size=100, \n",
    "    epochs=5, \n",
    "    validation_data=(X_test, y_test)\n",
    "    )"
   ]
  },
  {
   "cell_type": "markdown",
   "metadata": {
    "id": "0ARj3Ohn_SrH"
   },
   "source": [
    "**Задание**"
   ]
  },
  {
   "cell_type": "markdown",
   "metadata": {
    "id": "uTGhRGW4_Viq"
   },
   "source": [
    "<img src=\"https://linux-blog.anracom.com/wp-content/uploads/2020/05/MNIST_CNN1_1.png\">"
   ]
  },
  {
   "cell_type": "code",
   "execution_count": null,
   "metadata": {
    "id": "Q_RVo-K7k241"
   },
   "outputs": [],
   "source": [
    "my_model =  Sequential()\n",
    "# Ваш код здесь"
   ]
  }
 ],
 "metadata": {
  "colab": {
   "provenance": []
  },
  "kernelspec": {
   "display_name": "Python 3",
   "language": "python",
   "name": "python3"
  },
  "language_info": {
   "codemirror_mode": {
    "name": "ipython",
    "version": 3
   },
   "file_extension": ".py",
   "mimetype": "text/x-python",
   "name": "python",
   "nbconvert_exporter": "python",
   "pygments_lexer": "ipython3",
   "version": "3.7.6"
  }
 },
 "nbformat": 4,
 "nbformat_minor": 1
}
